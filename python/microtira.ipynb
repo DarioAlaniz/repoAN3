{
 "cells": [
  {
   "cell_type": "code",
   "execution_count": 37,
   "metadata": {},
   "outputs": [],
   "source": [
    "# Librerias\n",
    "import numpy as np"
   ]
  },
  {
   "cell_type": "code",
   "execution_count": 38,
   "metadata": {},
   "outputs": [],
   "source": [
    "# Parametros\n",
    "zo=25.93\n",
    "er=4.5\n",
    "H = 1.66 #mm datos de ejemplo\n",
    "t = 0.04 #mm datos de ejemplo\n",
    "tipo = 0 # 1 Hammerstad, 0 Wheeler\n"
   ]
  },
  {
   "cell_type": "markdown",
   "metadata": {},
   "source": [
    "# Diseño:\n",
    "1) Obtencion de coeficientes A y B.\n",
    "2) En base a la relacion W/H (<2 o >2) elejimos uno u otra valor.\n",
    "3) Se despeja W dada por el punto 2.\n",
    "4) Se corrigue en W teniendo en cuenta la altura del cobre \"t\"\n"
   ]
  },
  {
   "cell_type": "markdown",
   "metadata": {},
   "source": [
    "### Desarrollo:\n",
    "1) \n",
    "\n",
    "--------Hammerstad-------------------Wheeler-------------\n",
    "\n",
    "![image](image\\A_B.png)"
   ]
  },
  {
   "cell_type": "code",
   "execution_count": 39,
   "metadata": {},
   "outputs": [
    {
     "name": "stdout",
     "output_type": "stream",
     "text": [
      "---------------------Wheeler----------------------\n",
      "A= 0.8775966330452555\n",
      "B= 10.765952356894871\n"
     ]
    }
   ],
   "source": [
    "if (tipo):\n",
    "    # Hammerstad\n",
    "    A = (zo/60 * np.sqrt((er+1)/2) ) + (((er-1)/(er+1)) * (0.23 + (0.11/er)))\n",
    "    B = ((377 * np.pi) / (2*zo*np.sqrt(er)))    \n",
    "    print(\"Hammerstad\".capitalize().center(50,\"-\"))\n",
    "    print('A=',A)\n",
    "    print('B=',B)\n",
    "\n",
    "else:\n",
    "    # Wheeler\n",
    "    A =  (zo/60 * np.sqrt((er+1)/2) ) + (((er-1)/(er+1)) * (0.226 + (0.121/er)))\n",
    "    B = ((377 * np.pi) / (2*zo*np.sqrt(er)))\n",
    "    print(\"Wheeler\".capitalize().center(50,\"-\"))\n",
    "    print('A=',A)\n",
    "    print('B=',B)\n"
   ]
  },
  {
   "cell_type": "markdown",
   "metadata": {},
   "source": [
    "2) y 3.\n",
    "\n",
    "--------Hammerstad-------------------Wheeler-------------\n",
    "\n",
    "![image](image\\W_H_ratio.png)"
   ]
  },
  {
   "cell_type": "code",
   "execution_count": 40,
   "metadata": {},
   "outputs": [
    {
     "name": "stdout",
     "output_type": "stream",
     "text": [
      "Relacion W/H mayor o igual a 2\n",
      "W[mm]=  8.136721743165104\n"
     ]
    }
   ],
   "source": [
    "if(tipo):\n",
    "    # Hammerstad\n",
    "    W_H_ratio_1 = (8*np.exp(A))/(np.exp(2*A)-2)\n",
    "    W_H_ratio_2 = (2/np.pi) * (B-1 - np.log((2*B)-1)+((er-1)/(2*er)) * (np.log(B-1)+0.39-0.61/er))\n",
    "\n",
    "else:\n",
    "    # Wheeler\n",
    "    W_H_ratio_1 = (8*np.exp(A))/(np.exp(2*A)-2)\n",
    "    W_H_ratio_2 = (((er-1)/(np.pi*er))* (np.log(B-1) + 0.293 - (0.517/er))+ (2/np.pi) *(B-1-np.log(2*B-1)))\n",
    "\n",
    "if (W_H_ratio_1 <= 2):\n",
    "    print(\"Relacion W/H menor o igual a 2\")\n",
    "    W = H * W_H_ratio_1\n",
    "if (W_H_ratio_2 >= 2):\n",
    "    print(\"Relacion W/H mayor o igual a 2\")\n",
    "    W = H * W_H_ratio_2\n",
    "\n",
    "print('W[mm]= ',W)"
   ]
  },
  {
   "cell_type": "markdown",
   "metadata": {},
   "source": [
    "4) \n",
    "--------Hammerstad-----------------------------Wheeler-------------\n",
    "\n",
    "![image](image\\W_H_ratio_as_t.png)"
   ]
  },
  {
   "cell_type": "code",
   "execution_count": 41,
   "metadata": {},
   "outputs": [
    {
     "name": "stdout",
     "output_type": "stream",
     "text": [
      "W/H =  4.901639604316328\n",
      "Relacion W/H >1/2*pi\n",
      "We[mm]=  8.205716564649737\n"
     ]
    }
   ],
   "source": [
    "ratio = W/H\n",
    "print('W/H = ',ratio)\n",
    "if(ratio <= (1/(2*np.pi))):\n",
    "    print('Relacion W/H <1/2*pi')\n",
    "    We = W + ((t/np.pi)*(1+np.log((4*np.pi*W)/t)))\n",
    "if(ratio >= (1/(2*np.pi))):\n",
    "    print('Relacion W/H >1/2*pi')\n",
    "    We = W + ((t/np.pi)*(1+np.log((2*H)/t)))\n",
    "print('We[mm]= ',We)"
   ]
  },
  {
   "cell_type": "markdown",
   "metadata": {},
   "source": [
    "# Analisis:\n",
    "1) Obtener er' en funcion de W/H, W sin corregir \n",
    "2) Calculo de Zo"
   ]
  },
  {
   "cell_type": "markdown",
   "metadata": {},
   "source": [
    "1) \n",
    "--------Hammerstad------------------------------------------------------Wheeler-------------\n",
    "![image](image\\er.png)"
   ]
  },
  {
   "cell_type": "code",
   "execution_count": 42,
   "metadata": {},
   "outputs": [
    {
     "name": "stdout",
     "output_type": "stream",
     "text": [
      "Relacion W/H >1\n",
      "er_p=  3.6924196186550238\n"
     ]
    }
   ],
   "source": [
    "if(ratio<=1):\n",
    "    print('Relacion W/H <1')\n",
    "    er_p = (er+1)/2 + (((er-1)/2)*((1/(np.sqrt(1+(12*H/W))))+0.04*(1-W/H)**2))\n",
    "if(ratio>=1):\n",
    "    print('Relacion W/H >1')\n",
    "    er_p = (er+1)/2 + (((er-1)/2)*(1/(np.sqrt(1+(12*H/W)))))\n",
    "print('er_p= ',er_p)"
   ]
  },
  {
   "cell_type": "markdown",
   "metadata": {},
   "source": [
    "2)\n",
    "![image](image\\zo.png)"
   ]
  },
  {
   "cell_type": "code",
   "execution_count": 43,
   "metadata": {},
   "outputs": [
    {
     "name": "stdout",
     "output_type": "stream",
     "text": [
      "Impedancia obtenida:  26.102817797386862\n"
     ]
    }
   ],
   "source": [
    "if(ratio<=1):\n",
    "    zo_p = 60/np.sqrt(er_p) * np.log(8*H/W + W/4*H)\n",
    "if(ratio>=1):\n",
    "    if(tipo):\n",
    "        zo_p = (120*np.pi/np.sqrt(er_p)) /  (W/H + 1.393 + 0.667*np.log(W/H + 1.444))\n",
    "    else: \n",
    "        zo_p = (120*np.pi/np.sqrt(er_p)) /  (W/H + 2.46 - 0.49*H/W + (1-H/W)**6)\n",
    "\n",
    "print('Impedancia obtenida: ',zo_p)"
   ]
  }
 ],
 "metadata": {
  "interpreter": {
   "hash": "2db524e06e9f5f4ffedc911c917cb75e12dbc923643829bf417064a77eb14d37"
  },
  "kernelspec": {
   "display_name": "Python 3.8.6 64-bit",
   "language": "python",
   "name": "python3"
  },
  "language_info": {
   "codemirror_mode": {
    "name": "ipython",
    "version": 3
   },
   "file_extension": ".py",
   "mimetype": "text/x-python",
   "name": "python",
   "nbconvert_exporter": "python",
   "pygments_lexer": "ipython3",
   "version": "3.8.6"
  },
  "orig_nbformat": 4
 },
 "nbformat": 4,
 "nbformat_minor": 2
}
